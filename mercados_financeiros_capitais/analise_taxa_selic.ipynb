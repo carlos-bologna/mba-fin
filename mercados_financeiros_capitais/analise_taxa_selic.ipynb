{
 "cells": [
  {
   "cell_type": "markdown",
   "metadata": {},
   "source": [
    "# Análise da Taxa Selic No Decorrer dos Anos"
   ]
  },
  {
   "cell_type": "code",
   "execution_count": 27,
   "metadata": {},
   "outputs": [
    {
     "name": "stderr",
     "output_type": "stream",
     "text": [
      "/tmp/ipykernel_7805/1969739378.py:5: UserWarning: Parsing dates in %d/%m/%Y format when dayfirst=False (the default) was specified. Pass `dayfirst=True` or specify a format to silence this warning.\n",
      "  df = pd.read_csv(file_path, parse_dates=['data'], sep=\";\")\n"
     ]
    }
   ],
   "source": [
    "# Import Python packages\n",
    "import pandas as pd\n",
    "# Read the CSV file\n",
    "file_path = 'data/selic_daily_bcdata.sgs.1178.csv'\n",
    "df = pd.read_csv(file_path, parse_dates=['data'], sep=\";\")"
   ]
  },
  {
   "cell_type": "code",
   "execution_count": 28,
   "metadata": {},
   "outputs": [],
   "source": [
    "# Convert the 'valor' column to numeric with comma as decimal separator\n",
    "df['valor'] = pd.to_numeric(df['valor'].str.replace(',', '.'), errors='coerce')\n",
    "\n",
    "# Extract the month and year from the 'data' column\n",
    "df['month_year'] = df['data'].dt.to_period('M')\n",
    "\n",
    "# Calculate the average of the 'valor' column grouped by 'month_year'\n",
    "average_by_month = df.groupby('month_year')['valor'].mean()\n"
   ]
  },
  {
   "cell_type": "code",
   "execution_count": 29,
   "metadata": {},
   "outputs": [],
   "source": [
    "# Calculate centrality metrics for the 'valor' column in average_by_month DataFrame\n",
    "centrality_metrics = average_by_month.describe()\n",
    "\n",
    "# Calculate mode separately\n",
    "mode_value = average_by_month.mode().iloc[0]\n",
    "\n",
    "# Add mode to centrality_metrics DataFrame\n",
    "centrality_metrics['mode'] = mode_value"
   ]
  },
  {
   "cell_type": "code",
   "execution_count": 30,
   "metadata": {},
   "outputs": [
    {
     "name": "stdout",
     "output_type": "stream",
     "text": [
      "count    332.000000\n",
      "mean      14.120937\n",
      "std        7.295691\n",
      "min        1.900000\n",
      "25%        9.386429\n",
      "50%       13.150000\n",
      "75%       18.259989\n",
      "max       45.902000\n",
      "mode       6.400000\n",
      "Name: valor, dtype: float64\n"
     ]
    }
   ],
   "source": [
    "print(centrality_metrics)"
   ]
  },
  {
   "cell_type": "code",
   "execution_count": 41,
   "metadata": {},
   "outputs": [],
   "source": [
    "# Filter the last 36 records and order by 'month_year' in descending order\n",
    "filtered_last_36 = average_by_month.tail(36).sort_index(ascending=False)\n"
   ]
  },
  {
   "cell_type": "code",
   "execution_count": 42,
   "metadata": {},
   "outputs": [],
   "source": [
    "# Calculate centrality metrics for the 'valor' column in average_by_month DataFrame\n",
    "centrality_metrics_last_36 = filtered_last_36.describe()\n",
    "\n",
    "# Calculate mode separately\n",
    "mode_value_last_36 = filtered_last_36.mode().iloc[0]\n",
    "\n",
    "# Add mode to centrality_metrics DataFrame\n",
    "centrality_metrics_last_36['mode'] = mode_value_last_36"
   ]
  },
  {
   "cell_type": "code",
   "execution_count": 43,
   "metadata": {},
   "outputs": [
    {
     "name": "stdout",
     "output_type": "stream",
     "text": [
      "count    36.000000\n",
      "mean     10.288368\n",
      "std       4.097853\n",
      "min       1.900000\n",
      "25%       7.312500\n",
      "50%      12.344318\n",
      "75%      13.650000\n",
      "max      13.650000\n",
      "mode     13.650000\n",
      "Name: valor, dtype: float64\n"
     ]
    }
   ],
   "source": [
    "print(centrality_metrics_last_36)"
   ]
  }
 ],
 "metadata": {
  "kernelspec": {
   "display_name": "Python 3",
   "language": "python",
   "name": "python3"
  },
  "language_info": {
   "codemirror_mode": {
    "name": "ipython",
    "version": 3
   },
   "file_extension": ".py",
   "mimetype": "text/x-python",
   "name": "python",
   "nbconvert_exporter": "python",
   "pygments_lexer": "ipython3",
   "version": "3.10.13"
  }
 },
 "nbformat": 4,
 "nbformat_minor": 2
}
